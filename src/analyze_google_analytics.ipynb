{
 "cells": [
  {
   "cell_type": "markdown",
   "metadata": {},
   "source": [
    "**Purpose**: Analyze the Google Analytics stats of Galaxy Training Material website"
   ]
  },
  {
   "cell_type": "code",
   "execution_count": 1,
   "metadata": {},
   "outputs": [],
   "source": [
    "import datetime\n",
    "import matplotlib.pyplot as plt\n",
    "import pandas as pd\n",
    "\n",
    "from dateutil import relativedelta"
   ]
  },
  {
   "cell_type": "markdown",
   "metadata": {},
   "source": [
    "Usage: on Google Analytics\n",
    "\n",
    "1. Go to **Customization** then **Custom Reports**\n",
    "2. Open each report and for each\n",
    "    1. Select time from Nov 1, 2018 to today\n",
    "    2. Show 50 rows\n",
    "    3. Export in CSV in `../data/topics_analytics` folder following the name `<topic>.csv`"
   ]
  },
  {
   "cell_type": "code",
   "execution_count": 2,
   "metadata": {},
   "outputs": [
    {
     "data": {
      "text/plain": [
       "'2020-12-08 11:18:09.272827'"
      ]
     },
     "execution_count": 2,
     "metadata": {},
     "output_type": "execute_result"
    }
   ],
   "source": [
    "str(datetime.datetime.now())"
   ]
  },
  {
   "cell_type": "code",
   "execution_count": 3,
   "metadata": {
    "scrolled": false
   },
   "outputs": [],
   "source": [
    "# create range for every month\n",
    "delta = 1\n",
    "start = datetime.datetime(year=2018, month=11, day=1)\n",
    "end = datetime.datetime.now()\n",
    "r = relativedelta.relativedelta(end, start)\n",
    "month_nb = 12*r.years + r.months + 1\n",
    "months = pd.date_range(start, periods=month_nb, freq='M')\n",
    "month_idx = pd.PeriodIndex(months)"
   ]
  },
  {
   "cell_type": "markdown",
   "metadata": {},
   "source": [
    "Number of months for the extraction"
   ]
  },
  {
   "cell_type": "code",
   "execution_count": 4,
   "metadata": {},
   "outputs": [
    {
     "data": {
      "text/plain": [
       "26"
      ]
     },
     "execution_count": 4,
     "metadata": {},
     "output_type": "execute_result"
    }
   ],
   "source": [
    "month_nb"
   ]
  },
  {
   "cell_type": "code",
   "execution_count": 5,
   "metadata": {},
   "outputs": [],
   "source": [
    "def get_user_stat(fp, name):\n",
    "    \"\"\"Extract and prepare user stat\n",
    "    \n",
    "    :param fp: path to CSV extracted from Google Analytics\n",
    "    :param name: name of resources on which users are extracted\n",
    "\n",
    "    :return: dataframe with 2 columns (month index and number of users)\n",
    "    \"\"\"\n",
    "    df = pd.read_csv(fp, header=5)\n",
    "    # format columns\n",
    "    df[\"Month Index\"] = df[\"Month Index\"].astype(int)\n",
    "    if df['Users'].dtypes != 'int':\n",
    "        df[\"Users\"] = df[\"Users\"].str.replace(',', '').astype(int)\n",
    "    #\n",
    "    return df.rename(columns = {'Users': name})"
   ]
  },
  {
   "cell_type": "code",
   "execution_count": 6,
   "metadata": {},
   "outputs": [
    {
     "data": {
      "text/html": [
       "<div>\n",
       "<style scoped>\n",
       "    .dataframe tbody tr th:only-of-type {\n",
       "        vertical-align: middle;\n",
       "    }\n",
       "\n",
       "    .dataframe tbody tr th {\n",
       "        vertical-align: top;\n",
       "    }\n",
       "\n",
       "    .dataframe thead th {\n",
       "        text-align: right;\n",
       "    }\n",
       "</style>\n",
       "<table border=\"1\" class=\"dataframe\">\n",
       "  <thead>\n",
       "    <tr style=\"text-align: right;\">\n",
       "      <th></th>\n",
       "      <th>All</th>\n",
       "    </tr>\n",
       "    <tr>\n",
       "      <th>index</th>\n",
       "      <th></th>\n",
       "    </tr>\n",
       "  </thead>\n",
       "  <tbody>\n",
       "    <tr>\n",
       "      <th>2018-11</th>\n",
       "      <td>1991.0</td>\n",
       "    </tr>\n",
       "    <tr>\n",
       "      <th>2018-12</th>\n",
       "      <td>5933.0</td>\n",
       "    </tr>\n",
       "    <tr>\n",
       "      <th>2019-01</th>\n",
       "      <td>6507.0</td>\n",
       "    </tr>\n",
       "    <tr>\n",
       "      <th>2019-02</th>\n",
       "      <td>7402.0</td>\n",
       "    </tr>\n",
       "    <tr>\n",
       "      <th>2019-03</th>\n",
       "      <td>9850.0</td>\n",
       "    </tr>\n",
       "  </tbody>\n",
       "</table>\n",
       "</div>"
      ],
      "text/plain": [
       "            All\n",
       "index          \n",
       "2018-11  1991.0\n",
       "2018-12  5933.0\n",
       "2019-01  6507.0\n",
       "2019-02  7402.0\n",
       "2019-03  9850.0"
      ]
     },
     "execution_count": 6,
     "metadata": {},
     "output_type": "execute_result"
    }
   ],
   "source": [
    "all_users = (pd.DataFrame({'Month Index': range(month_nb)}, index=month_idx)\n",
    "    .reset_index()\n",
    "    .merge(get_user_stat('../data/audience_statistics.csv', 'All'), how='outer')\n",
    "    .fillna(0)\n",
    "    .set_index('index')\n",
    "    .drop(columns=['Month Index']))\n",
    "all_users.head()"
   ]
  },
  {
   "cell_type": "code",
   "execution_count": 7,
   "metadata": {},
   "outputs": [
    {
     "data": {
      "text/plain": [
       "16373.115384615385"
      ]
     },
     "execution_count": 7,
     "metadata": {},
     "output_type": "execute_result"
    }
   ],
   "source": [
    "all_users.All.mean()"
   ]
  },
  {
   "cell_type": "code",
   "execution_count": 8,
   "metadata": {},
   "outputs": [
    {
     "data": {
      "image/png": "[encoded data removed]",
      "text/plain": [
       "<Figure size 432x288 with 1 Axes>"
      ]
     },
     "metadata": {
      "needs_background": "light"
     },
     "output_type": "display_data"
    }
   ],
   "source": [
    "plt.figure()\n",
    "all_users.All.plot()\n",
    "plt.xlabel('Months')\n",
    "plt.ylabel('Users')\n",
    "plt.axvline('2020-03-01', color='red')\n",
    "plt.text('2020-03-01', 2000, 'Start of COVID-19 \\nmeasures in \\nmost countries ', horizontalalignment='right')\n",
    "plt.show()"
   ]
  },
  {
   "cell_type": "code",
   "execution_count": 9,
   "metadata": {},
   "outputs": [
    {
     "data": {
      "text/html": [
       "<div>\n",
       "<style scoped>\n",
       "    .dataframe tbody tr th:only-of-type {\n",
       "        vertical-align: middle;\n",
       "    }\n",
       "\n",
       "    .dataframe tbody tr th {\n",
       "        vertical-align: top;\n",
       "    }\n",
       "\n",
       "    .dataframe thead th {\n",
       "        text-align: right;\n",
       "    }\n",
       "</style>\n",
       "<table border=\"1\" class=\"dataframe\">\n",
       "  <thead>\n",
       "    <tr style=\"text-align: right;\">\n",
       "      <th></th>\n",
       "      <th>Introduction to Galaxy Analyses</th>\n",
       "      <th>Assembly</th>\n",
       "      <th>Climate</th>\n",
       "      <th>Computational chemistry</th>\n",
       "      <th>Ecology</th>\n",
       "      <th>Epigenetics</th>\n",
       "      <th>Genome Annotation</th>\n",
       "      <th>Imaging</th>\n",
       "      <th>Metabolomics</th>\n",
       "      <th>Metagenomics</th>\n",
       "      <th>...</th>\n",
       "      <th>Sequence analysis</th>\n",
       "      <th>Statistics and machine learning</th>\n",
       "      <th>Transcriptomics</th>\n",
       "      <th>Variant Analysis</th>\n",
       "      <th>Visualization</th>\n",
       "      <th>User Interface and Data Manipulation</th>\n",
       "      <th>Galaxy Server administration</th>\n",
       "      <th>Development in Galaxy</th>\n",
       "      <th>Contributing to the Galaxy Training Material</th>\n",
       "      <th>Teaching and Hosting Galaxy training</th>\n",
       "    </tr>\n",
       "    <tr>\n",
       "      <th>index</th>\n",
       "      <th></th>\n",
       "      <th></th>\n",
       "      <th></th>\n",
       "      <th></th>\n",
       "      <th></th>\n",
       "      <th></th>\n",
       "      <th></th>\n",
       "      <th></th>\n",
       "      <th></th>\n",
       "      <th></th>\n",
       "      <th></th>\n",
       "      <th></th>\n",
       "      <th></th>\n",
       "      <th></th>\n",
       "      <th></th>\n",
       "      <th></th>\n",
       "      <th></th>\n",
       "      <th></th>\n",
       "      <th></th>\n",
       "      <th></th>\n",
       "      <th></th>\n",
       "    </tr>\n",
       "  </thead>\n",
       "  <tbody>\n",
       "    <tr>\n",
       "      <th>2018-11</th>\n",
       "      <td>679.0</td>\n",
       "      <td>131.0</td>\n",
       "      <td>0.0</td>\n",
       "      <td>0.0</td>\n",
       "      <td>0.0</td>\n",
       "      <td>49.0</td>\n",
       "      <td>103.0</td>\n",
       "      <td>8.0</td>\n",
       "      <td>11.0</td>\n",
       "      <td>252.0</td>\n",
       "      <td>...</td>\n",
       "      <td>353.0</td>\n",
       "      <td>58.0</td>\n",
       "      <td>1245.0</td>\n",
       "      <td>550.0</td>\n",
       "      <td>0.0</td>\n",
       "      <td>0.0</td>\n",
       "      <td>137.0</td>\n",
       "      <td>31.0</td>\n",
       "      <td>24.0</td>\n",
       "      <td>9.0</td>\n",
       "    </tr>\n",
       "    <tr>\n",
       "      <th>2018-12</th>\n",
       "      <td>1691.0</td>\n",
       "      <td>401.0</td>\n",
       "      <td>0.0</td>\n",
       "      <td>1.0</td>\n",
       "      <td>0.0</td>\n",
       "      <td>185.0</td>\n",
       "      <td>291.0</td>\n",
       "      <td>7.0</td>\n",
       "      <td>25.0</td>\n",
       "      <td>665.0</td>\n",
       "      <td>...</td>\n",
       "      <td>948.0</td>\n",
       "      <td>69.0</td>\n",
       "      <td>1983.0</td>\n",
       "      <td>461.0</td>\n",
       "      <td>0.0</td>\n",
       "      <td>0.0</td>\n",
       "      <td>316.0</td>\n",
       "      <td>83.0</td>\n",
       "      <td>46.0</td>\n",
       "      <td>23.0</td>\n",
       "    </tr>\n",
       "    <tr>\n",
       "      <th>2019-01</th>\n",
       "      <td>1764.0</td>\n",
       "      <td>557.0</td>\n",
       "      <td>0.0</td>\n",
       "      <td>0.0</td>\n",
       "      <td>1.0</td>\n",
       "      <td>203.0</td>\n",
       "      <td>539.0</td>\n",
       "      <td>10.0</td>\n",
       "      <td>36.0</td>\n",
       "      <td>717.0</td>\n",
       "      <td>...</td>\n",
       "      <td>1223.0</td>\n",
       "      <td>153.0</td>\n",
       "      <td>1436.0</td>\n",
       "      <td>598.0</td>\n",
       "      <td>0.0</td>\n",
       "      <td>0.0</td>\n",
       "      <td>492.0</td>\n",
       "      <td>132.0</td>\n",
       "      <td>82.0</td>\n",
       "      <td>23.0</td>\n",
       "    </tr>\n",
       "    <tr>\n",
       "      <th>2019-02</th>\n",
       "      <td>1799.0</td>\n",
       "      <td>568.0</td>\n",
       "      <td>0.0</td>\n",
       "      <td>0.0</td>\n",
       "      <td>0.0</td>\n",
       "      <td>260.0</td>\n",
       "      <td>766.0</td>\n",
       "      <td>22.0</td>\n",
       "      <td>45.0</td>\n",
       "      <td>871.0</td>\n",
       "      <td>...</td>\n",
       "      <td>1395.0</td>\n",
       "      <td>166.0</td>\n",
       "      <td>1644.0</td>\n",
       "      <td>600.0</td>\n",
       "      <td>0.0</td>\n",
       "      <td>0.0</td>\n",
       "      <td>551.0</td>\n",
       "      <td>120.0</td>\n",
       "      <td>103.0</td>\n",
       "      <td>23.0</td>\n",
       "    </tr>\n",
       "    <tr>\n",
       "      <th>2019-03</th>\n",
       "      <td>2125.0</td>\n",
       "      <td>709.0</td>\n",
       "      <td>0.0</td>\n",
       "      <td>1.0</td>\n",
       "      <td>1.0</td>\n",
       "      <td>244.0</td>\n",
       "      <td>1017.0</td>\n",
       "      <td>34.0</td>\n",
       "      <td>59.0</td>\n",
       "      <td>1053.0</td>\n",
       "      <td>...</td>\n",
       "      <td>1695.0</td>\n",
       "      <td>169.0</td>\n",
       "      <td>2561.0</td>\n",
       "      <td>831.0</td>\n",
       "      <td>0.0</td>\n",
       "      <td>0.0</td>\n",
       "      <td>693.0</td>\n",
       "      <td>140.0</td>\n",
       "      <td>107.0</td>\n",
       "      <td>28.0</td>\n",
       "    </tr>\n",
       "  </tbody>\n",
       "</table>\n",
       "<p>5 rows × 21 columns</p>\n",
       "</div>"
      ],
      "text/plain": [
       "         Introduction to Galaxy Analyses  Assembly  Climate  \\\n",
       "index                                                         \n",
       "2018-11                            679.0     131.0      0.0   \n",
       "2018-12                           1691.0     401.0      0.0   \n",
       "2019-01                           1764.0     557.0      0.0   \n",
       "2019-02                           1799.0     568.0      0.0   \n",
       "2019-03                           2125.0     709.0      0.0   \n",
       "\n",
       "         Computational chemistry  Ecology  Epigenetics  Genome Annotation  \\\n",
       "index                                                                       \n",
       "2018-11                      0.0      0.0         49.0              103.0   \n",
       "2018-12                      1.0      0.0        185.0              291.0   \n",
       "2019-01                      0.0      1.0        203.0              539.0   \n",
       "2019-02                      0.0      0.0        260.0              766.0   \n",
       "2019-03                      1.0      1.0        244.0             1017.0   \n",
       "\n",
       "         Imaging  Metabolomics  Metagenomics  ...  Sequence analysis  \\\n",
       "index                                         ...                      \n",
       "2018-11      8.0          11.0         252.0  ...              353.0   \n",
       "2018-12      7.0          25.0         665.0  ...              948.0   \n",
       "2019-01     10.0          36.0         717.0  ...             1223.0   \n",
       "2019-02     22.0          45.0         871.0  ...             1395.0   \n",
       "2019-03     34.0          59.0        1053.0  ...             1695.0   \n",
       "\n",
       "         Statistics and machine learning  Transcriptomics  Variant Analysis  \\\n",
       "index                                                                         \n",
       "2018-11                             58.0           1245.0             550.0   \n",
       "2018-12                             69.0           1983.0             461.0   \n",
       "2019-01                            153.0           1436.0             598.0   \n",
       "2019-02                            166.0           1644.0             600.0   \n",
       "2019-03                            169.0           2561.0             831.0   \n",
       "\n",
       "         Visualization  User Interface and Data Manipulation  \\\n",
       "index                                                          \n",
       "2018-11            0.0                                   0.0   \n",
       "2018-12            0.0                                   0.0   \n",
       "2019-01            0.0                                   0.0   \n",
       "2019-02            0.0                                   0.0   \n",
       "2019-03            0.0                                   0.0   \n",
       "\n",
       "         Galaxy Server administration  Development in Galaxy  \\\n",
       "index                                                          \n",
       "2018-11                         137.0                   31.0   \n",
       "2018-12                         316.0                   83.0   \n",
       "2019-01                         492.0                  132.0   \n",
       "2019-02                         551.0                  120.0   \n",
       "2019-03                         693.0                  140.0   \n",
       "\n",
       "         Contributing to the Galaxy Training Material  \\\n",
       "index                                                   \n",
       "2018-11                                          24.0   \n",
       "2018-12                                          46.0   \n",
       "2019-01                                          82.0   \n",
       "2019-02                                         103.0   \n",
       "2019-03                                         107.0   \n",
       "\n",
       "         Teaching and Hosting Galaxy training  \n",
       "index                                          \n",
       "2018-11                                   9.0  \n",
       "2018-12                                  23.0  \n",
       "2019-01                                  23.0  \n",
       "2019-02                                  23.0  \n",
       "2019-03                                  28.0  \n",
       "\n",
       "[5 rows x 21 columns]"
      ]
     },
     "execution_count": 9,
     "metadata": {},
     "output_type": "execute_result"
    }
   ],
   "source": [
    "topic_users = (pd.DataFrame({'Month Index': range(month_nb)}, index=month_idx)\n",
    "    .reset_index()\n",
    "    .merge(get_user_stat('../data/topics_analytics/introduction.csv', 'Introduction to Galaxy Analyses'), how='outer')\n",
    "    .merge(get_user_stat('../data/topics_analytics/assembly.csv', 'Assembly'), how='outer')\n",
    "    .merge(get_user_stat('../data/topics_analytics/climate.csv', 'Climate'), how='outer')\n",
    "    .merge(get_user_stat('../data/topics_analytics/computational-chemistry.csv', 'Computational chemistry'), how='outer')\n",
    "    .merge(get_user_stat('../data/topics_analytics/ecology.csv', 'Ecology'), how='outer')\n",
    "    .merge(get_user_stat('../data/topics_analytics/epigenetics.csv', 'Epigenetics'), how='outer')\n",
    "    .merge(get_user_stat('../data/topics_analytics/genome-annotation.csv', 'Genome Annotation'), how='outer')\n",
    "    .merge(get_user_stat('../data/topics_analytics/imaging.csv', 'Imaging'), how='outer')\n",
    "    .merge(get_user_stat('../data/topics_analytics/metabolomics.csv', 'Metabolomics'), how='outer')\n",
    "    .merge(get_user_stat('../data/topics_analytics/metagenomics.csv', 'Metagenomics'), how='outer')\n",
    "    .merge(get_user_stat('../data/topics_analytics/proteomics.csv', 'Proteomics'), how='outer')\n",
    "    .merge(get_user_stat('../data/topics_analytics/sequence-analysis.csv', 'Sequence analysis'), how='outer')\n",
    "    .merge(get_user_stat('../data/topics_analytics/statistics.csv', 'Statistics and machine learning'), how='outer')\n",
    "    .merge(get_user_stat('../data/topics_analytics/transcriptomics.csv', 'Transcriptomics'), how='outer')\n",
    "    .merge(get_user_stat('../data/topics_analytics/variant-analysis.csv', 'Variant Analysis'), how='outer')\n",
    "    .merge(get_user_stat('../data/topics_analytics/visualisation.csv', 'Visualization'), how='outer')\n",
    "               \n",
    "    .merge(get_user_stat('../data/topics_analytics/galaxy-interface.csv', 'User Interface and Data Manipulation'), how='outer')\n",
    "               \n",
    "    .merge(get_user_stat('../data/topics_analytics/admin.csv', 'Galaxy Server administration'), how='outer')\n",
    "    .merge(get_user_stat('../data/topics_analytics/dev.csv', 'Development in Galaxy'), how='outer')\n",
    "               \n",
    "    .merge(get_user_stat('../data/topics_analytics/contributing.csv', 'Contributing to the Galaxy Training Material'), how='outer')\n",
    "    .merge(get_user_stat('../data/topics_analytics/instructors.csv', 'Teaching and Hosting Galaxy training'), how='outer')\n",
    "    .fillna(0)\n",
    "    .set_index('index')\n",
    "    .drop(columns=['Month Index']))\n",
    "topic_users.head()"
   ]
  },
  {
   "cell_type": "code",
   "execution_count": 10,
   "metadata": {},
   "outputs": [
    {
     "data": {
      "text/plain": [
       "<matplotlib.legend.Legend at 0x7f8a0cb806a0>"
      ]
     },
     "execution_count": 10,
     "metadata": {},
     "output_type": "execute_result"
    },
    {
     "data": {
      "image/png": "[encoded data removed]",
      "text/plain": [
       "<Figure size 432x288 with 1 Axes>"
      ]
     },
     "metadata": {
      "needs_background": "light"
     },
     "output_type": "display_data"
    }
   ],
   "source": [
    "fig, ax = plt.subplots()\n",
    "topic_users.plot(ax=ax, colormap='RdBu')\n",
    "plt.xlabel('Months')\n",
    "plt.ylabel('Users')\n",
    "ax.legend(\n",
    "    loc='center left',\n",
    "    bbox_to_anchor=(0, -0.5),\n",
    "    frameon=False,\n",
    "    ncol=2,\n",
    "    fontsize='x-small')"
   ]
  },
  {
   "cell_type": "code",
   "execution_count": 11,
   "metadata": {},
   "outputs": [
    {
     "data": {
      "text/plain": [
       "Introduction to Galaxy Analyses                 0.0\n",
       "Development in Galaxy                           0.0\n",
       "Galaxy Server administration                    0.0\n",
       "User Interface and Data Manipulation            0.0\n",
       "Visualization                                   0.0\n",
       "Variant Analysis                                0.0\n",
       "Transcriptomics                                 0.0\n",
       "Statistics and machine learning                 0.0\n",
       "Sequence analysis                               0.0\n",
       "Contributing to the Galaxy Training Material    0.0\n",
       "Proteomics                                      0.0\n",
       "Metabolomics                                    0.0\n",
       "Imaging                                         0.0\n",
       "Genome Annotation                               0.0\n",
       "Epigenetics                                     0.0\n",
       "Ecology                                         0.0\n",
       "Computational chemistry                         0.0\n",
       "Climate                                         0.0\n",
       "Assembly                                        0.0\n",
       "Metagenomics                                    0.0\n",
       "Teaching and Hosting Galaxy training            0.0\n",
       "Name: 2020-12, dtype: float64"
      ]
     },
     "execution_count": 11,
     "metadata": {},
     "output_type": "execute_result"
    }
   ],
   "source": [
    "topic_users.iloc[-1].sort_values()"
   ]
  },
  {
   "cell_type": "code",
   "execution_count": null,
   "metadata": {},
   "outputs": [],
   "source": []
  }
 ],
 "metadata": {
  "hide_input": false,
  "kernelspec": {
   "display_name": "Python 3",
   "language": "python",
   "name": "python3"
  },
  "language_info": {
   "codemirror_mode": {
    "name": "ipython",
    "version": 3
   },
   "file_extension": ".py",
   "mimetype": "text/x-python",
   "name": "python",
   "nbconvert_exporter": "python",
   "pygments_lexer": "ipython3",
   "version": "3.6.11"
  },
  "toc": {
   "nav_menu": {},
   "number_sections": true,
   "sideBar": true,
   "skip_h1_title": false,
   "title_cell": "Table of Contents",
   "title_sidebar": "Contents",
   "toc_cell": false,
   "toc_position": {},
   "toc_section_display": true,
   "toc_window_display": false
  }
 },
 "nbformat": 4,
 "nbformat_minor": 2
}
