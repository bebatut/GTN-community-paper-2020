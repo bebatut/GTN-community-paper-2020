{
 "cells": [
  {
   "cell_type": "markdown",
   "metadata": {},
   "source": [
    "**Purpose**: Analyze the Google Analytics stats of Galaxy Training Material website"
   ]
  },
  {
   "cell_type": "code",
   "execution_count": 1,
   "metadata": {},
   "outputs": [],
   "source": [
    "import matplotlib.pyplot as plt\n",
    "import pandas as pd\n",
    "\n",
    "import datetime\n",
    "from dateutil import relativedelta"
   ]
  },
  {
   "cell_type": "markdown",
   "metadata": {},
   "source": [
    "Usage: on Google Analytics\n",
    "\n",
    "1. Export Audience (Audience - Overview) per month from Nov 1, 2018 to today for all pages to csv in `data/audience_statistics.csv`\n",
    "2. Export Page statistics (Behaviour - Site Content - All pages) from Nov 1, 2018 to today for all pages to csv in `data/page_statistics.csv`"
   ]
  },
  {
   "cell_type": "code",
   "execution_count": 2,
   "metadata": {},
   "outputs": [
    {
     "data": {
      "text/plain": [
       "'2020-09-28 13:17:49.298397'"
      ]
     },
     "execution_count": 2,
     "metadata": {},
     "output_type": "execute_result"
    }
   ],
   "source": [
    "start = datetime.datetime(year=2018, month=11, day=1)\n",
    "end = datetime.datetime.now()\n",
    "str(end)"
   ]
  },
  {
   "cell_type": "code",
   "execution_count": 3,
   "metadata": {},
   "outputs": [
    {
     "data": {
      "text/plain": [
       "22"
      ]
     },
     "execution_count": 3,
     "metadata": {},
     "output_type": "execute_result"
    }
   ],
   "source": [
    "r = relativedelta.relativedelta(end, start)\n",
    "month_nb = 12*r.years + r.months\n",
    "month_nb"
   ]
  },
  {
   "cell_type": "markdown",
   "metadata": {},
   "source": [
    "# General statistics"
   ]
  },
  {
   "cell_type": "code",
   "execution_count": 11,
   "metadata": {},
   "outputs": [],
   "source": [
    "df = (pd.read_csv('../data/audience_statistics.csv', header=5)\n",
    "     .dropna())\n",
    "# format columns\n",
    "df[\"Month Index\"] = df[\"Month Index\"].astype(int)\n",
    "df[\"Users\"] = df[\"Users\"].str.replace(',', '').astype(int)\n",
    "# add column with date\n",
    "df[\"Month\"] = [start + relativedelta.relativedelta(months=i) for i in df[\"Month Index\"]]\n",
    "# put month as index\n",
    "df = (df\n",
    "      .set_index('Month')\n",
    "      .drop([\"Month Index\"], axis=1))"
   ]
  },
  {
   "cell_type": "code",
   "execution_count": 12,
   "metadata": {},
   "outputs": [
    {
     "data": {
      "text/html": [
       "<div>\n",
       "<style scoped>\n",
       "    .dataframe tbody tr th:only-of-type {\n",
       "        vertical-align: middle;\n",
       "    }\n",
       "\n",
       "    .dataframe tbody tr th {\n",
       "        vertical-align: top;\n",
       "    }\n",
       "\n",
       "    .dataframe thead th {\n",
       "        text-align: right;\n",
       "    }\n",
       "</style>\n",
       "<table border=\"1\" class=\"dataframe\">\n",
       "  <thead>\n",
       "    <tr style=\"text-align: right;\">\n",
       "      <th></th>\n",
       "      <th>Users</th>\n",
       "    </tr>\n",
       "    <tr>\n",
       "      <th>Month</th>\n",
       "      <th></th>\n",
       "    </tr>\n",
       "  </thead>\n",
       "  <tbody>\n",
       "    <tr>\n",
       "      <th>2018-11-01</th>\n",
       "      <td>6175</td>\n",
       "    </tr>\n",
       "    <tr>\n",
       "      <th>2018-12-01</th>\n",
       "      <td>5933</td>\n",
       "    </tr>\n",
       "    <tr>\n",
       "      <th>2019-01-01</th>\n",
       "      <td>6507</td>\n",
       "    </tr>\n",
       "    <tr>\n",
       "      <th>2019-02-01</th>\n",
       "      <td>7402</td>\n",
       "    </tr>\n",
       "    <tr>\n",
       "      <th>2019-03-01</th>\n",
       "      <td>9850</td>\n",
       "    </tr>\n",
       "    <tr>\n",
       "      <th>2019-04-01</th>\n",
       "      <td>10985</td>\n",
       "    </tr>\n",
       "    <tr>\n",
       "      <th>2019-05-01</th>\n",
       "      <td>12012</td>\n",
       "    </tr>\n",
       "    <tr>\n",
       "      <th>2019-06-01</th>\n",
       "      <td>10115</td>\n",
       "    </tr>\n",
       "    <tr>\n",
       "      <th>2019-07-01</th>\n",
       "      <td>11101</td>\n",
       "    </tr>\n",
       "    <tr>\n",
       "      <th>2019-08-01</th>\n",
       "      <td>10305</td>\n",
       "    </tr>\n",
       "    <tr>\n",
       "      <th>2019-09-01</th>\n",
       "      <td>13235</td>\n",
       "    </tr>\n",
       "    <tr>\n",
       "      <th>2019-10-01</th>\n",
       "      <td>18153</td>\n",
       "    </tr>\n",
       "    <tr>\n",
       "      <th>2019-11-01</th>\n",
       "      <td>19985</td>\n",
       "    </tr>\n",
       "    <tr>\n",
       "      <th>2019-12-01</th>\n",
       "      <td>18170</td>\n",
       "    </tr>\n",
       "    <tr>\n",
       "      <th>2020-01-01</th>\n",
       "      <td>19796</td>\n",
       "    </tr>\n",
       "    <tr>\n",
       "      <th>2020-02-01</th>\n",
       "      <td>21135</td>\n",
       "    </tr>\n",
       "    <tr>\n",
       "      <th>2020-03-01</th>\n",
       "      <td>22007</td>\n",
       "    </tr>\n",
       "    <tr>\n",
       "      <th>2020-04-01</th>\n",
       "      <td>26098</td>\n",
       "    </tr>\n",
       "    <tr>\n",
       "      <th>2020-05-01</th>\n",
       "      <td>24937</td>\n",
       "    </tr>\n",
       "    <tr>\n",
       "      <th>2020-06-01</th>\n",
       "      <td>22610</td>\n",
       "    </tr>\n",
       "    <tr>\n",
       "      <th>2020-07-01</th>\n",
       "      <td>21998</td>\n",
       "    </tr>\n",
       "    <tr>\n",
       "      <th>2020-08-01</th>\n",
       "      <td>19703</td>\n",
       "    </tr>\n",
       "    <tr>\n",
       "      <th>2020-09-01</th>\n",
       "      <td>19901</td>\n",
       "    </tr>\n",
       "  </tbody>\n",
       "</table>\n",
       "</div>"
      ],
      "text/plain": [
       "            Users\n",
       "Month            \n",
       "2018-11-01   6175\n",
       "2018-12-01   5933\n",
       "2019-01-01   6507\n",
       "2019-02-01   7402\n",
       "2019-03-01   9850\n",
       "2019-04-01  10985\n",
       "2019-05-01  12012\n",
       "2019-06-01  10115\n",
       "2019-07-01  11101\n",
       "2019-08-01  10305\n",
       "2019-09-01  13235\n",
       "2019-10-01  18153\n",
       "2019-11-01  19985\n",
       "2019-12-01  18170\n",
       "2020-01-01  19796\n",
       "2020-02-01  21135\n",
       "2020-03-01  22007\n",
       "2020-04-01  26098\n",
       "2020-05-01  24937\n",
       "2020-06-01  22610\n",
       "2020-07-01  21998\n",
       "2020-08-01  19703\n",
       "2020-09-01  19901"
      ]
     },
     "execution_count": 12,
     "metadata": {},
     "output_type": "execute_result"
    }
   ],
   "source": [
    "df"
   ]
  },
  {
   "cell_type": "code",
   "execution_count": 13,
   "metadata": {},
   "outputs": [
    {
     "data": {
      "text/plain": [
       "15570.130434782608"
      ]
     },
     "execution_count": 13,
     "metadata": {},
     "output_type": "execute_result"
    }
   ],
   "source": [
    "df.Users.mean()"
   ]
  },
  {
   "cell_type": "code",
   "execution_count": 30,
   "metadata": {},
   "outputs": [
    {
     "data": {
      "image/png": "[encoded data removed]",
      "text/plain": [
       "<Figure size 432x288 with 1 Axes>"
      ]
     },
     "metadata": {
      "needs_background": "light"
     },
     "output_type": "display_data"
    }
   ],
   "source": [
    "plt.figure()\n",
    "df.Users.plot()\n",
    "plt.xlabel('Months')\n",
    "plt.ylabel('Users')\n",
    "plt.axvline('2020-03-01', color='red')\n",
    "plt.text('2020-03-01', 6000, 'Start of COVID-19 \\nmeasures in \\nmost countries ', horizontalalignment='right')\n",
    "plt.show()"
   ]
  },
  {
   "cell_type": "markdown",
   "metadata": {},
   "source": [
    "# Page statistics"
   ]
  },
  {
   "cell_type": "code",
   "execution_count": 8,
   "metadata": {},
   "outputs": [
    {
     "name": "stderr",
     "output_type": "stream",
     "text": [
      "/Users/bebatut/miniconda3/envs/gtn-community-paper-2020/lib/python3.6/site-packages/ipykernel_launcher.py:1: ParserWarning: Falling back to the 'python' engine because the 'c' engine does not support skipfooter; you can avoid this warning by specifying engine='python'.\n",
      "  \"\"\"Entry point for launching an IPython kernel.\n"
     ]
    },
    {
     "data": {
      "text/html": [
       "<div>\n",
       "<style scoped>\n",
       "    .dataframe tbody tr th:only-of-type {\n",
       "        vertical-align: middle;\n",
       "    }\n",
       "\n",
       "    .dataframe tbody tr th {\n",
       "        vertical-align: top;\n",
       "    }\n",
       "\n",
       "    .dataframe thead th {\n",
       "        text-align: right;\n",
       "    }\n",
       "</style>\n",
       "<table border=\"1\" class=\"dataframe\">\n",
       "  <thead>\n",
       "    <tr style=\"text-align: right;\">\n",
       "      <th></th>\n",
       "      <th>Tutorial</th>\n",
       "      <th>Topic</th>\n",
       "      <th>Pageviews / month</th>\n",
       "      <th>Pageviews</th>\n",
       "      <th>Unique Pageviews</th>\n",
       "      <th>Avg. Time on Page</th>\n",
       "      <th>Entrances</th>\n",
       "      <th>Bounce Rate</th>\n",
       "      <th>% Exit</th>\n",
       "    </tr>\n",
       "  </thead>\n",
       "  <tbody>\n",
       "    <tr>\n",
       "      <th>2</th>\n",
       "      <td>rna-seq-viz-with-volcanoplot</td>\n",
       "      <td>transcriptomics</td>\n",
       "      <td>2240.0</td>\n",
       "      <td>49284</td>\n",
       "      <td>42644</td>\n",
       "      <td>00:04:26</td>\n",
       "      <td>40669</td>\n",
       "      <td>84.14%</td>\n",
       "      <td>79.53%</td>\n",
       "    </tr>\n",
       "    <tr>\n",
       "      <th>3</th>\n",
       "      <td>ref-based</td>\n",
       "      <td>transcriptomics</td>\n",
       "      <td>2174.0</td>\n",
       "      <td>47829</td>\n",
       "      <td>40044</td>\n",
       "      <td>00:04:49</td>\n",
       "      <td>32487</td>\n",
       "      <td>77.98%</td>\n",
       "      <td>71.07%</td>\n",
       "    </tr>\n",
       "    <tr>\n",
       "      <th>5</th>\n",
       "      <td>quality-control</td>\n",
       "      <td>sequence-analysis</td>\n",
       "      <td>1550.0</td>\n",
       "      <td>34095</td>\n",
       "      <td>29193</td>\n",
       "      <td>00:04:40</td>\n",
       "      <td>21809</td>\n",
       "      <td>81.27%</td>\n",
       "      <td>69.54%</td>\n",
       "    </tr>\n",
       "    <tr>\n",
       "      <th>6</th>\n",
       "      <td>mothur-miseq-sop</td>\n",
       "      <td>metagenomics</td>\n",
       "      <td>1508.0</td>\n",
       "      <td>33167</td>\n",
       "      <td>27516</td>\n",
       "      <td>00:05:00</td>\n",
       "      <td>23578</td>\n",
       "      <td>79.70%</td>\n",
       "      <td>73.42%</td>\n",
       "    </tr>\n",
       "    <tr>\n",
       "      <th>8</th>\n",
       "      <td>rna-seq-viz-with-heatmap2</td>\n",
       "      <td>transcriptomics</td>\n",
       "      <td>1267.0</td>\n",
       "      <td>27880</td>\n",
       "      <td>24606</td>\n",
       "      <td>00:04:17</td>\n",
       "      <td>22355</td>\n",
       "      <td>83.32%</td>\n",
       "      <td>77.89%</td>\n",
       "    </tr>\n",
       "    <tr>\n",
       "      <th>9</th>\n",
       "      <td>rna-seq-reads-to-counts</td>\n",
       "      <td>transcriptomics</td>\n",
       "      <td>1008.0</td>\n",
       "      <td>22178</td>\n",
       "      <td>19422</td>\n",
       "      <td>00:04:08</td>\n",
       "      <td>15146</td>\n",
       "      <td>78.69%</td>\n",
       "      <td>68.99%</td>\n",
       "    </tr>\n",
       "  </tbody>\n",
       "</table>\n",
       "</div>"
      ],
      "text/plain": [
       "                       Tutorial              Topic  Pageviews / month  \\\n",
       "2  rna-seq-viz-with-volcanoplot    transcriptomics             2240.0   \n",
       "3                     ref-based    transcriptomics             2174.0   \n",
       "5               quality-control  sequence-analysis             1550.0   \n",
       "6              mothur-miseq-sop       metagenomics             1508.0   \n",
       "8     rna-seq-viz-with-heatmap2    transcriptomics             1267.0   \n",
       "9       rna-seq-reads-to-counts    transcriptomics             1008.0   \n",
       "\n",
       "   Pageviews  Unique Pageviews Avg. Time on Page  Entrances Bounce Rate  \\\n",
       "2      49284             42644          00:04:26      40669      84.14%   \n",
       "3      47829             40044          00:04:49      32487      77.98%   \n",
       "5      34095             29193          00:04:40      21809      81.27%   \n",
       "6      33167             27516          00:05:00      23578      79.70%   \n",
       "8      27880             24606          00:04:17      22355      83.32%   \n",
       "9      22178             19422          00:04:08      15146      78.69%   \n",
       "\n",
       "   % Exit  \n",
       "2  79.53%  \n",
       "3  71.07%  \n",
       "5  69.54%  \n",
       "6  73.42%  \n",
       "8  77.89%  \n",
       "9  68.99%  "
      ]
     },
     "execution_count": 8,
     "metadata": {},
     "output_type": "execute_result"
    }
   ],
   "source": [
    "df = (pd.read_csv('../data/page_statistics.csv', header=5, skipfooter=1)\n",
    "     .dropna()\n",
    "     .drop(['Page Value'], axis=1))\n",
    "# keep only lines for tutorials\n",
    "df = df[df.Page.str.contains('tutorials')]\n",
    "df = df[~df.Page.str.contains('translate')]\n",
    "# extract topics and tutorial\n",
    "new = df.Page.str.split('/', expand = True)\n",
    "df[\"Tutorial\"] = new[5]\n",
    "df[\"Topic\"] = new[3]\n",
    "df = (df.drop(columns =[\"Page\"]))\n",
    "# add page view per month\n",
    "df.Pageviews = df.Pageviews.str.replace(',', '').astype(int)\n",
    "df[\"Pageviews / month\"] = round(df.Pageviews / month_nb)\n",
    "# format columns\n",
    "df[\"Unique Pageviews\"] = df[\"Unique Pageviews\"].str.replace(',', '').astype(int)\n",
    "df[\"Entrances\"] = df[\"Entrances\"].str.replace(',', '').astype(int)\n",
    "# order columns\n",
    "df = df.reindex(columns=[\n",
    "    'Tutorial', 'Topic', 'Pageviews / month', 'Pageviews', 'Unique Pageviews', 'Avg. Time on Page', 'Entrances', 'Bounce Rate', '% Exit'])\n",
    "df"
   ]
  },
  {
   "cell_type": "code",
   "execution_count": 9,
   "metadata": {},
   "outputs": [
    {
     "data": {
      "text/html": [
       "<div>\n",
       "<style scoped>\n",
       "    .dataframe tbody tr th:only-of-type {\n",
       "        vertical-align: middle;\n",
       "    }\n",
       "\n",
       "    .dataframe tbody tr th {\n",
       "        vertical-align: top;\n",
       "    }\n",
       "\n",
       "    .dataframe thead th {\n",
       "        text-align: right;\n",
       "    }\n",
       "</style>\n",
       "<table border=\"1\" class=\"dataframe\">\n",
       "  <thead>\n",
       "    <tr style=\"text-align: right;\">\n",
       "      <th></th>\n",
       "      <th>Tutorial</th>\n",
       "      <th>Topic</th>\n",
       "      <th>Pageviews / month</th>\n",
       "    </tr>\n",
       "  </thead>\n",
       "  <tbody>\n",
       "    <tr>\n",
       "      <th>2</th>\n",
       "      <td>rna-seq-viz-with-volcanoplot</td>\n",
       "      <td>transcriptomics</td>\n",
       "      <td>2240.0</td>\n",
       "    </tr>\n",
       "    <tr>\n",
       "      <th>3</th>\n",
       "      <td>ref-based</td>\n",
       "      <td>transcriptomics</td>\n",
       "      <td>2174.0</td>\n",
       "    </tr>\n",
       "    <tr>\n",
       "      <th>5</th>\n",
       "      <td>quality-control</td>\n",
       "      <td>sequence-analysis</td>\n",
       "      <td>1550.0</td>\n",
       "    </tr>\n",
       "    <tr>\n",
       "      <th>6</th>\n",
       "      <td>mothur-miseq-sop</td>\n",
       "      <td>metagenomics</td>\n",
       "      <td>1508.0</td>\n",
       "    </tr>\n",
       "    <tr>\n",
       "      <th>8</th>\n",
       "      <td>rna-seq-viz-with-heatmap2</td>\n",
       "      <td>transcriptomics</td>\n",
       "      <td>1267.0</td>\n",
       "    </tr>\n",
       "    <tr>\n",
       "      <th>9</th>\n",
       "      <td>rna-seq-reads-to-counts</td>\n",
       "      <td>transcriptomics</td>\n",
       "      <td>1008.0</td>\n",
       "    </tr>\n",
       "  </tbody>\n",
       "</table>\n",
       "</div>"
      ],
      "text/plain": [
       "                       Tutorial              Topic  Pageviews / month\n",
       "2  rna-seq-viz-with-volcanoplot    transcriptomics             2240.0\n",
       "3                     ref-based    transcriptomics             2174.0\n",
       "5               quality-control  sequence-analysis             1550.0\n",
       "6              mothur-miseq-sop       metagenomics             1508.0\n",
       "8     rna-seq-viz-with-heatmap2    transcriptomics             1267.0\n",
       "9       rna-seq-reads-to-counts    transcriptomics             1008.0"
      ]
     },
     "execution_count": 9,
     "metadata": {},
     "output_type": "execute_result"
    }
   ],
   "source": [
    "df[['Tutorial', 'Topic', 'Pageviews / month']].head(10)"
   ]
  }
 ],
 "metadata": {
  "hide_input": false,
  "kernelspec": {
   "display_name": "Python 3",
   "language": "python",
   "name": "python3"
  },
  "language_info": {
   "codemirror_mode": {
    "name": "ipython",
    "version": 3
   },
   "file_extension": ".py",
   "mimetype": "text/x-python",
   "name": "python",
   "nbconvert_exporter": "python",
   "pygments_lexer": "ipython3",
   "version": "3.6.11"
  },
  "toc": {
   "nav_menu": {},
   "number_sections": true,
   "sideBar": true,
   "skip_h1_title": false,
   "title_cell": "Table of Contents",
   "title_sidebar": "Contents",
   "toc_cell": false,
   "toc_position": {},
   "toc_section_display": true,
   "toc_window_display": false
  }
 },
 "nbformat": 4,
 "nbformat_minor": 2
}
